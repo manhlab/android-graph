{
 "cells": [
  {
   "cell_type": "code",
   "execution_count": 1,
   "metadata": {},
   "outputs": [
    {
     "name": "stderr",
     "output_type": "stream",
     "text": [
      "Using backend: pytorch\n"
     ]
    }
   ],
   "source": [
    "import re\n",
    "import dgl\n",
    "import torch\n",
    "from torch.utils.data import DataLoader\n",
    "\n",
    "import torch.nn as nn\n",
    "import torch.nn.functional as F\n",
    "import networkx as nx\n",
    "\n",
    "from pathlib import Path\n",
    "from androguard.misc import AnalyzeAPK\n",
    "import pickle\n",
    "import pytorch_lightning as pl\n",
    "from pytorch_lightning.callbacks.early_stopping import EarlyStopping\n",
    "from pytorch_lightning.callbacks.model_checkpoint import ModelCheckpoint\n",
    "import sklearn.metrics as M\n",
    "\n",
    "from dgl.nn.pytorch import GraphConv, GATConv, SAGEConv\n",
    "from sklearn.model_selection import StratifiedShuffleSplit\n",
    "\n",
    "import joblib as J"
   ]
  },
  {
   "cell_type": "code",
   "execution_count": 2,
   "metadata": {},
   "outputs": [],
   "source": [
    "#%xmode verbose"
   ]
  },
  {
   "cell_type": "markdown",
   "metadata": {},
   "source": [
    "## Params"
   ]
  },
  {
   "cell_type": "code",
   "execution_count": 3,
   "metadata": {},
   "outputs": [],
   "source": [
    "model_kwargs = {'in_dim': 15, 'hidden_dim': 30, 'n_classes': 5 }"
   ]
  },
  {
   "cell_type": "code",
   "execution_count": 4,
   "metadata": {},
   "outputs": [],
   "source": [
    "train = False"
   ]
  },
  {
   "cell_type": "code",
   "execution_count": 5,
   "metadata": {},
   "outputs": [],
   "source": [
    "extract = False"
   ]
  },
  {
   "cell_type": "markdown",
   "metadata": {},
   "source": [
    "## Dataset"
   ]
  },
  {
   "cell_type": "code",
   "execution_count": 6,
   "metadata": {},
   "outputs": [],
   "source": [
    "def get_samples(base_path):\n",
    "    base_path = Path(base_path)\n",
    "    labels_dict = {x:i for i,x in enumerate(sorted([\"Adware\", \"Benigh\", \"Banking\", \"SMS\", \"Riskware\"]))}\n",
    "    if not base_path.exists():\n",
    "        raise Exception(f'{base_path} does not exist')\n",
    "    apk_list = sorted([x for x in base_path.iterdir() if not x.is_dir()])\n",
    "    samples = []\n",
    "    labels  = {}\n",
    "    for apk in apk_list:\n",
    "        samples.append(apk.name)\n",
    "        labels[apk.name] = labels_dict[re.findall(r'[A-Z](?:[a-z]|[A-Z])+',apk.name)[0]]\n",
    "    return samples, labels"
   ]
  },
  {
   "cell_type": "code",
   "execution_count": 7,
   "metadata": {},
   "outputs": [],
   "source": [
    "samples, labels = get_samples('../data/large/raw')"
   ]
  },
  {
   "cell_type": "code",
   "execution_count": 8,
   "metadata": {},
   "outputs": [
    {
     "data": {
      "text/plain": [
       "'Adware0000.apk'"
      ]
     },
     "execution_count": 8,
     "metadata": {},
     "output_type": "execute_result"
    }
   ],
   "source": [
    "samples[0]"
   ]
  },
  {
   "cell_type": "code",
   "execution_count": 9,
   "metadata": {},
   "outputs": [],
   "source": [
    "raw_prefix = Path('../data/large/raw')\n",
    "processed_prefix = Path('../data/large/G-feat')"
   ]
  },
  {
   "cell_type": "code",
   "execution_count": 10,
   "metadata": {},
   "outputs": [],
   "source": [
    "def process(file):\n",
    "    _, _, dx = AnalyzeAPK(raw_prefix/file)\n",
    "    cg = dx.get_call_graph()\n",
    "    opcodes = {}\n",
    "    for node in cg.nodes():\n",
    "        sequence = [0] * 15\n",
    "        if not node.is_external():\n",
    "            for instr in node.get_method().get_instructions():\n",
    "                value = instr.get_op_value()\n",
    "                if value == 0x00: # nop\n",
    "                    sequence[0] = 1\n",
    "                elif value >= 0x01 and value <= 0x0D: # mov\n",
    "                    sequence[1] = 1\n",
    "                elif value >= 0x0E and value <= 0x11: # return\n",
    "                    sequence[2] = 1\n",
    "                elif value == 0x1D or value == 0x1E: # monitor\n",
    "                    sequence[3] = 1\n",
    "                elif value >= 0x32 and value <= 0x3D: # if\n",
    "                    sequence[4] = 1\n",
    "                elif value == 0x27: # throw\n",
    "                    sequence[5] = 1\n",
    "                elif value == 0x28 or value == 0x29: #goto\n",
    "                    sequence[6] = 1\n",
    "                elif value >= 0x2F and value <= 0x31: # compare\n",
    "                    sequence[7] = 1\n",
    "                elif value >= 0x7F and value <= 0x8F: # unop\n",
    "                    sequence[8] = 1\n",
    "                elif value >=90 and value <= 0xE2: # binop\n",
    "                    sequence[9] = 1\n",
    "                elif value == 0x21 or (value >= 0x23 and value <= 0x26) or (value >= 0x44 and value <= 0x51): # aop\n",
    "                    sequence[10] = 1\n",
    "                elif (value >= 0x52 and value <= 0x5F) or (value >= 0xF2 and value <= 0xF7): # instanceop\n",
    "                    sequence[11] = 1\n",
    "                elif (value >= 0x60 and value <= 0x6D): # staticop\n",
    "                    sequence[12] = 1\n",
    "                elif (value >= 0x6E and value <= 0x72) and (value >= 0x74 and value <= 0x78) and (value >= 0xF9 and value <= 0xFB):\n",
    "                    sequence[13] = 1\n",
    "                elif (value >= 0x22 and value <= 0x25):\n",
    "                    sequence[14] = 1\n",
    "        opcodes[node] = {'sequence': sequence}\n",
    "    nx.set_node_attributes(cg, opcodes)\n",
    "    labels = {x: {'name': x.full_name} for x in cg.nodes()}\n",
    "    nx.set_node_attributes(cg, labels)\n",
    "    cg = nx.convert_node_labels_to_integers(cg)\n",
    "    torch.save(cg, processed_prefix/ (file.split('.')[0]+'.graph'))"
   ]
  },
  {
   "cell_type": "code",
   "execution_count": 11,
   "metadata": {},
   "outputs": [],
   "source": [
    "if extract:\n",
    "    J.Parallel(n_jobs=40)(J.delayed(process)(x) for x in samples);"
   ]
  },
  {
   "cell_type": "code",
   "execution_count": 12,
   "metadata": {},
   "outputs": [],
   "source": [
    "class MalwareDataset(torch.utils.data.Dataset):\n",
    "    def __init__(self, save_dir, list_IDs, labels):\n",
    "        self.save_dir = Path(save_dir)\n",
    "        self.list_IDs = list_IDs\n",
    "        self.labels = labels\n",
    "        self.cache = {}\n",
    "\n",
    "    def __len__(self):\n",
    "        'Denotes the total number of samples'\n",
    "        return len(self.list_IDs)\n",
    "\n",
    "    def __getitem__(self, index):\n",
    "        'Generates one sample of data'\n",
    "        # Select sample\n",
    "        if index not in self.cache:\n",
    "            ID = self.list_IDs[index]\n",
    "            graph_path = self.save_dir / (ID.split('.')[0] + '.graph')\n",
    "            cg = torch.load(graph_path)\n",
    "            dg = dgl.from_networkx(cg, node_attrs=['sequence'], edge_attrs=['offset'])\n",
    "            dg = dgl.add_self_loop(dg)\n",
    "            self.cache[index] = (dg, self.labels[ID])\n",
    "        return self.cache[index]"
   ]
  },
  {
   "cell_type": "markdown",
   "metadata": {},
   "source": [
    "## Data Loading"
   ]
  },
  {
   "cell_type": "code",
   "execution_count": 13,
   "metadata": {},
   "outputs": [],
   "source": [
    "def split_dataset(samples, labels, ratios):\n",
    "    if sum(ratios) != 1:\n",
    "        raise Exception(\"Invalid ratios provided\")\n",
    "    train_ratio, val_ratio, test_ratio = ratios\n",
    "    sss = StratifiedShuffleSplit(n_splits=1, test_size=test_ratio, random_state=0)\n",
    "    train_idx, test_idx = list(sss.split(samples, [labels[x] for x in samples]))[0]\n",
    "    sss = StratifiedShuffleSplit(n_splits=1, test_size=val_ratio/(1-test_ratio), random_state=0)\n",
    "    test_list = [samples[x] for x in test_idx]\n",
    "    train_list = [samples[x] for x in train_idx]\n",
    "    train_idx, val_idx = list(sss.split(train_list, [labels[x] for x in train_list]))[0]\n",
    "    train_list = [samples[x] for x in train_idx]\n",
    "    val_list = [samples[x] for x in val_idx]\n",
    "    return train_list, val_list, test_list"
   ]
  },
  {
   "cell_type": "code",
   "execution_count": 14,
   "metadata": {},
   "outputs": [],
   "source": [
    "train_list, val_list, test_list = split_dataset(samples, labels, [0.6, 0.2, 0.2])"
   ]
  },
  {
   "cell_type": "code",
   "execution_count": 15,
   "metadata": {},
   "outputs": [
    {
     "data": {
      "text/plain": [
       "tensor([0.6000, 0.2000, 0.2000])"
      ]
     },
     "execution_count": 15,
     "metadata": {},
     "output_type": "execute_result"
    }
   ],
   "source": [
    "torch.tensor([len(train_list), len(val_list), len(test_list)]).float()/len(samples)"
   ]
  },
  {
   "cell_type": "code",
   "execution_count": 16,
   "metadata": {},
   "outputs": [],
   "source": [
    "def collate(samples):\n",
    "    graphs, labels = [], []\n",
    "    for graph, label in samples:\n",
    "        graphs.append(graph)\n",
    "        labels.append(label)\n",
    "    batched_graph = dgl.batch(graphs)\n",
    "    return batched_graph, torch.tensor(labels)"
   ]
  },
  {
   "cell_type": "code",
   "execution_count": 17,
   "metadata": {},
   "outputs": [],
   "source": [
    "train_dataset = MalwareDataset(processed_prefix , train_list, labels)\n",
    "val_dataset   = MalwareDataset(processed_prefix , val_list,  labels)\n",
    "test_dataset  = MalwareDataset(processed_prefix , test_list, labels)"
   ]
  },
  {
   "cell_type": "code",
   "execution_count": 18,
   "metadata": {},
   "outputs": [],
   "source": [
    "train_data = DataLoader(train_dataset, batch_size=8, shuffle=True,  collate_fn=collate, num_workers=8)\n",
    "val_data   = DataLoader(val_dataset,   batch_size=8, shuffle=False, collate_fn=collate , num_workers=40)\n",
    "test_data  = DataLoader(test_dataset,  batch_size=8, shuffle=False, collate_fn=collate, num_workers=4)"
   ]
  },
  {
   "cell_type": "code",
   "execution_count": 19,
   "metadata": {},
   "outputs": [
    {
     "data": {
      "text/plain": [
       "0"
      ]
     },
     "execution_count": 19,
     "metadata": {},
     "output_type": "execute_result"
    }
   ],
   "source": [
    "len(test_dataset.cache)"
   ]
  },
  {
   "cell_type": "markdown",
   "metadata": {},
   "source": [
    "## Model"
   ]
  },
  {
   "cell_type": "code",
   "execution_count": 20,
   "metadata": {},
   "outputs": [],
   "source": [
    "class MalwareClassifier(pl.LightningModule):\n",
    "    def __init__(self, in_dim, hidden_dim, n_classes):\n",
    "        super().__init__()\n",
    "        self.conv1 = SAGEConv(in_dim, hidden_dim, aggregator_type='mean')\n",
    "        self.conv2 = SAGEConv(hidden_dim, hidden_dim, aggregator_type='mean')\n",
    "        self.classify = nn.Linear(hidden_dim, n_classes)\n",
    "        self.loss_func = nn.CrossEntropyLoss()\n",
    "        \n",
    "        \n",
    "    def forward(self, g):\n",
    "        h = g.ndata['sequence'].float()\n",
    "        #h = torch.cat([g.ndata[x].view(-1,1).float() for x in ['public', 'entrypoint', 'external', 'native', 'codesize' ]], dim=1)\n",
    "        # h = g.in_degrees().view(-1,1).float()\n",
    "        # Perform graph convolution and activation function.\n",
    "        h = F.relu(self.conv1(g, h))\n",
    "        h = F.relu(self.conv2(g, h))\n",
    "        g.ndata['h'] = h\n",
    "        # Calculate graph representation by averaging all the node representations.\n",
    "        hg = dgl.mean_nodes(g, 'h')\n",
    "        return self.classify(hg) \n",
    "    \n",
    "    def training_step(self, batch, batch_idx):\n",
    "        bg, label = batch\n",
    "        #print(\"Outer\", len(label))\n",
    "        prediction = self.forward(bg)\n",
    "        loss = self.loss_func(prediction, label)\n",
    "        return loss\n",
    "    \n",
    "    def validation_step(self, batch, batch_idx):\n",
    "        bg, label = batch\n",
    "        prediction = self.forward(bg)\n",
    "        loss = self.loss_func(prediction, label)\n",
    "        self.log('val_loss', loss)\n",
    "    \n",
    "    def configure_optimizers(self):\n",
    "        optimizer = torch.optim.Adam(self.parameters(), lr=1e-3)\n",
    "        return optimizer"
   ]
  },
  {
   "cell_type": "code",
   "execution_count": 21,
   "metadata": {},
   "outputs": [],
   "source": [
    "callbacks = [\n",
    "    EarlyStopping(monitor='val_loss', patience=5, min_delta=0.01),\n",
    "]"
   ]
  },
  {
   "cell_type": "code",
   "execution_count": 22,
   "metadata": {},
   "outputs": [],
   "source": [
    "checkpointer = ModelCheckpoint(filepath='../models/3Nov-{epoch:02d}-{val_loss:.2f}.pt', monitor='val_loss', mode='min')"
   ]
  },
  {
   "cell_type": "code",
   "execution_count": 23,
   "metadata": {},
   "outputs": [
    {
     "name": "stderr",
     "output_type": "stream",
     "text": [
      "GPU available: True, used: True\n",
      "TPU available: False, using: 0 TPU cores\n",
      "LOCAL_RANK: 0 - CUDA_VISIBLE_DEVICES: [2]\n"
     ]
    }
   ],
   "source": [
    "classifier= MalwareClassifier(**model_kwargs)\n",
    "trainer = pl.Trainer(callbacks=callbacks, checkpoint_callback=checkpointer, gpus=[2])"
   ]
  },
  {
   "cell_type": "code",
   "execution_count": 24,
   "metadata": {},
   "outputs": [
    {
     "data": {
      "text/plain": [
       "False"
      ]
     },
     "execution_count": 24,
     "metadata": {},
     "output_type": "execute_result"
    }
   ],
   "source": [
    "train"
   ]
  },
  {
   "cell_type": "code",
   "execution_count": 25,
   "metadata": {},
   "outputs": [],
   "source": [
    "if train:\n",
    "    trainer.fit(classifier, train_data, val_data)"
   ]
  },
  {
   "cell_type": "markdown",
   "metadata": {},
   "source": [
    "## Testing "
   ]
  },
  {
   "cell_type": "code",
   "execution_count": 26,
   "metadata": {},
   "outputs": [],
   "source": [
    "classifier_saved = MalwareClassifier.load_from_checkpoint('../models/3Nov-epoch=36-val_loss=0.51.pt.ckpt', **model_kwargs)"
   ]
  },
  {
   "cell_type": "code",
   "execution_count": 33,
   "metadata": {},
   "outputs": [
    {
     "data": {
      "text/plain": [
       "tensor([[ -2.0630,   1.1638, -11.9895,   5.1457,  -1.6285]])"
      ]
     },
     "execution_count": 33,
     "metadata": {},
     "output_type": "execute_result"
    }
   ],
   "source": [
    "classifier_saved(train_dataset[0][0])"
   ]
  },
  {
   "cell_type": "code",
   "execution_count": 31,
   "metadata": {},
   "outputs": [],
   "source": [
    "classifier_saved.freeze()"
   ]
  },
  {
   "cell_type": "code",
   "execution_count": 43,
   "metadata": {},
   "outputs": [
    {
     "data": {
      "text/plain": [
       "tensor([4, 2, 3,  ..., 1, 3, 2])"
      ]
     },
     "execution_count": 43,
     "metadata": {},
     "output_type": "execute_result"
    }
   ],
   "source": [
    "predicted = torch.argmax(classifier_saved(dgl.batch([g for g,l in test_dataset])),dim=1)\n",
    "predicted"
   ]
  },
  {
   "cell_type": "code",
   "execution_count": 36,
   "metadata": {},
   "outputs": [
    {
     "data": {
      "text/plain": [
       "3302"
      ]
     },
     "execution_count": 36,
     "metadata": {},
     "output_type": "execute_result"
    }
   ],
   "source": [
    "len(test_dataset)"
   ]
  },
  {
   "cell_type": "code",
   "execution_count": 37,
   "metadata": {},
   "outputs": [
    {
     "data": {
      "text/plain": [
       "3302"
      ]
     },
     "execution_count": 37,
     "metadata": {},
     "output_type": "execute_result"
    }
   ],
   "source": [
    "len(test_dataset.cache)"
   ]
  },
  {
   "cell_type": "code",
   "execution_count": 44,
   "metadata": {},
   "outputs": [
    {
     "data": {
      "text/plain": [
       "tensor([4, 2, 3,  ..., 3, 3, 2])"
      ]
     },
     "execution_count": 44,
     "metadata": {},
     "output_type": "execute_result"
    }
   ],
   "source": [
    "actual = torch.tensor([l for g,l in test_dataset])\n",
    "actual"
   ]
  },
  {
   "cell_type": "code",
   "execution_count": 45,
   "metadata": {},
   "outputs": [
    {
     "name": "stdout",
     "output_type": "stream",
     "text": [
      "              precision    recall  f1-score   support\n",
      "\n",
      "           0     0.8911    0.7318    0.8036       302\n",
      "           1     0.6159    0.8107    0.7000       449\n",
      "           2     0.9124    0.9282    0.9202       808\n",
      "           3     0.8524    0.7856    0.8176       779\n",
      "           4     0.9707    0.9295    0.9497       964\n",
      "\n",
      "    accuracy                         0.8610      3302\n",
      "   macro avg     0.8485    0.8372    0.8382      3302\n",
      "weighted avg     0.8730    0.8610    0.8640      3302\n",
      "\n"
     ]
    }
   ],
   "source": [
    "print(M.classification_report(actual, predicted, digits=4))"
   ]
  },
  {
   "cell_type": "code",
   "execution_count": 46,
   "metadata": {},
   "outputs": [
    {
     "data": {
      "text/plain": [
       "array([[221,  38,   5,  37,   1],\n",
       "       [  5, 364,  19,  39,  22],\n",
       "       [  5,  29, 750,  23,   1],\n",
       "       [ 10, 106,  48, 612,   3],\n",
       "       [  7,  54,   0,   7, 896]])"
      ]
     },
     "execution_count": 46,
     "metadata": {},
     "output_type": "execute_result"
    }
   ],
   "source": [
    "M.confusion_matrix(actual, predicted)"
   ]
  },
  {
   "cell_type": "code",
   "execution_count": null,
   "metadata": {},
   "outputs": [],
   "source": [
    "\"Adware\", \"Benigh\", \"Banking\", \"SMS\", \"Riskware\""
   ]
  },
  {
   "cell_type": "markdown",
   "metadata": {},
   "source": [
    "## Results\n",
    "Accuracy - 86.10%,\n",
    "Precision - 0.8485,\n",
    "Recall - 0.8372,\n",
    "F1 - 0.8382"
   ]
  }
 ],
 "metadata": {
  "kernelspec": {
   "display_name": "Python 3",
   "language": "python",
   "name": "python3"
  },
  "language_info": {
   "codemirror_mode": {
    "name": "ipython",
    "version": 3
   },
   "file_extension": ".py",
   "mimetype": "text/x-python",
   "name": "python",
   "nbconvert_exporter": "python",
   "pygments_lexer": "ipython3",
   "version": "3.6.9"
  }
 },
 "nbformat": 4,
 "nbformat_minor": 4
}
